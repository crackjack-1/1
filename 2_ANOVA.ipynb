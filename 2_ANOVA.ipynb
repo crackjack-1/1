{
 "cells": [
  {
   "cell_type": "markdown",
   "id": "23b9969d",
   "metadata": {},
   "source": [
    "<center><h1><font color=\"RoyalBlue\" size=6px>Two-way analysis of variance</font></h1></center>"
   ]
  },
  {
   "cell_type": "code",
   "execution_count": 202,
   "id": "f0d9719b",
   "metadata": {},
   "outputs": [],
   "source": [
    "import pandas as pd\n",
    "import numpy as np\n",
    "import scipy.stats as st\n",
    "import matplotlib.pyplot as plt\n",
    "import seaborn as sns\n",
    "%matplotlib inline"
   ]
  },
  {
   "cell_type": "markdown",
   "id": "cb1e622f",
   "metadata": {},
   "source": [
    "<b>Анализ данных"
   ]
  },
  {
   "cell_type": "code",
   "execution_count": 203,
   "id": "8b8244b6",
   "metadata": {},
   "outputs": [],
   "source": [
    "research_name = 'Gene expression depending on the dosage and age of the subjects'\n",
    "N = 16\n",
    "value = 'expr'\n",
    "a = ['age', 2] # first factor, amount of types\n",
    "b = ['dose', 2] # second factor, amount of types\n",
    "df = pd.read_csv('atherosclerosis.csv')"
   ]
  },
  {
   "cell_type": "code",
   "execution_count": 204,
   "id": "355d8a07",
   "metadata": {},
   "outputs": [
    {
     "data": {
      "text/plain": [
       "(197.45275411174634,\n",
       " 16.9122405933499,\n",
       " 1,\n",
       " 1,\n",
       " 197.45275411174634,\n",
       " 16.9122405933499)"
      ]
     },
     "execution_count": 204,
     "metadata": {},
     "output_type": "execute_result"
    }
   ],
   "source": [
    "SSB_a = sum([N*a[1]*(i-df['expr'].mean())**2 for i in df.groupby([a[0]]).mean()[value]]) \n",
    "SSB_b = sum([N*b[1]*(i-df['expr'].mean())**2 for i in df.groupby(b[0]).mean()[value]]) \n",
    "df_a, df_b = a[1] - 1, b[1] - 1\n",
    "\n",
    "mSSB_a, mSSB_b = SSB_a / df_a, SSB_b / df_b\n",
    "SSBa, SSBd, df_a, df_b, mSSB_a, mSSB_b "
   ]
  },
  {
   "cell_type": "code",
   "execution_count": 205,
   "id": "cd0a3272",
   "metadata": {},
   "outputs": [
    {
     "data": {
      "text/plain": [
       "(1590.2574236038338, 60, 26.50429039339723)"
      ]
     },
     "execution_count": 205,
     "metadata": {},
     "output_type": "execute_result"
    }
   ],
   "source": [
    "# counting SSW\n",
    "SSW = 0\n",
    "means = df.groupby([a[0], b[0]], as_index=False).mean()\n",
    "for i in range(means.shape[0]):\n",
    "    SSW += sum([(j-means.iloc[i][value])**2 for j in df[(df[a[0]] == means.iloc[i][a[0]]) & (df[b[0]] == means.iloc[i][b[0]])][value].array])\n",
    "DF = df.shape[0] - (a[1]+b[1])\n",
    "mSSW = SSW / DF\n",
    "SSW, DF, mSSW"
   ]
  },
  {
   "cell_type": "code",
   "execution_count": 206,
   "id": "fe917edd",
   "metadata": {},
   "outputs": [
    {
     "data": {
      "text/plain": [
       "(7.449841183483861, 0.008313446093880107)"
      ]
     },
     "execution_count": 206,
     "metadata": {},
     "output_type": "execute_result"
    }
   ],
   "source": [
    "F_a = mSSB_a / mSSW \n",
    "p_a = st.f.sf(F_a, df_a, DF)\n",
    "F_a, p_a"
   ]
  },
  {
   "cell_type": "code",
   "execution_count": 207,
   "id": "31681704",
   "metadata": {
    "scrolled": true
   },
   "outputs": [
    {
     "data": {
      "text/plain": [
       "(0.6380944497032485, 0.4275524367717639)"
      ]
     },
     "execution_count": 207,
     "metadata": {},
     "output_type": "execute_result"
    }
   ],
   "source": [
    "F_b = mSSB_b / mSSW \n",
    "p_b = st.f.sf(F_b, df_b, DF)\n",
    "F_b, p_b"
   ]
  },
  {
   "cell_type": "markdown",
   "id": "4401529c",
   "metadata": {},
   "source": [
    "<b>Оформление таблицы"
   ]
  },
  {
   "cell_type": "code",
   "execution_count": 208,
   "id": "44054da2",
   "metadata": {},
   "outputs": [],
   "source": [
    "anova_results = pd.DataFrame([\n",
    "    {\n",
    "        'Df': df_a,\n",
    "        'Sum Sq': SSB_a.round(2),\n",
    "        'Mean Sq': mSSB_a.round(2),\n",
    "        'F-value': F_a.round(2),\n",
    "        'Pr(>F)': p_a.round(4)\n",
    "    },\n",
    "    {\n",
    "        'Df': df_b,\n",
    "        'Sum Sq': SSB_b.round(2),\n",
    "        'Mean Sq': mSSB_b.round(2),\n",
    "        'F-value': F_b.round(2),\n",
    "        'Pr(>F)': p_b.round(4)\n",
    "    },\n",
    "    {\n",
    "        'Df': DF,\n",
    "        'Sum Sq': SSW.round(2),\n",
    "        'Mean Sq': mSSW.round(2),\n",
    "        'F-value': '',\n",
    "        'Pr(>F)': ''\n",
    "    }], index=[a[0], b[0], 'Residuals'])"
   ]
  },
  {
   "cell_type": "code",
   "execution_count": 209,
   "id": "ff67eec1",
   "metadata": {},
   "outputs": [
    {
     "data": {
      "text/html": [
       "<div>\n",
       "<style scoped>\n",
       "    .dataframe tbody tr th:only-of-type {\n",
       "        vertical-align: middle;\n",
       "    }\n",
       "\n",
       "    .dataframe tbody tr th {\n",
       "        vertical-align: top;\n",
       "    }\n",
       "\n",
       "    .dataframe thead th {\n",
       "        text-align: right;\n",
       "    }\n",
       "</style>\n",
       "<table border=\"1\" class=\"dataframe\">\n",
       "  <thead>\n",
       "    <tr style=\"text-align: right;\">\n",
       "      <th></th>\n",
       "      <th>Df</th>\n",
       "      <th>Sum Sq</th>\n",
       "      <th>Mean Sq</th>\n",
       "      <th>F-value</th>\n",
       "      <th>Pr(&gt;F)</th>\n",
       "    </tr>\n",
       "  </thead>\n",
       "  <tbody>\n",
       "    <tr>\n",
       "      <th>age</th>\n",
       "      <td>1</td>\n",
       "      <td>197.45</td>\n",
       "      <td>197.45</td>\n",
       "      <td>7.45</td>\n",
       "      <td>0.0083</td>\n",
       "    </tr>\n",
       "    <tr>\n",
       "      <th>dose</th>\n",
       "      <td>1</td>\n",
       "      <td>16.91</td>\n",
       "      <td>16.91</td>\n",
       "      <td>0.64</td>\n",
       "      <td>0.4276</td>\n",
       "    </tr>\n",
       "    <tr>\n",
       "      <th>Residuals</th>\n",
       "      <td>60</td>\n",
       "      <td>1590.26</td>\n",
       "      <td>26.50</td>\n",
       "      <td></td>\n",
       "      <td></td>\n",
       "    </tr>\n",
       "  </tbody>\n",
       "</table>\n",
       "</div>"
      ],
      "text/plain": [
       "           Df   Sum Sq  Mean Sq F-value  Pr(>F)\n",
       "age         1   197.45   197.45    7.45  0.0083\n",
       "dose        1    16.91    16.91    0.64  0.4276\n",
       "Residuals  60  1590.26    26.50                "
      ]
     },
     "execution_count": 209,
     "metadata": {},
     "output_type": "execute_result"
    }
   ],
   "source": [
    "anova_results"
   ]
  },
  {
   "cell_type": "markdown",
   "id": "4f71566b",
   "metadata": {},
   "source": [
    "<b>Построение графиков"
   ]
  },
  {
   "cell_type": "code",
   "execution_count": 219,
   "id": "80fc3c46",
   "metadata": {},
   "outputs": [
    {
     "data": {
      "text/plain": [
       "Text(0.5, 1.0, 'Gene expression depending on the dosage and age of the subjects')"
      ]
     },
     "execution_count": 219,
     "metadata": {},
     "output_type": "execute_result"
    },
    {
     "data": {
      "image/png": "[encoded data removed]",
      "text/plain": [
       "<Figure size 432x360 with 1 Axes>"
      ]
     },
     "metadata": {},
     "output_type": "display_data"
    }
   ],
   "source": [
    "sns.set_style(\"darkgrid\")\n",
    "sns.set(rc={'figure.figsize':(6, 5)})\n",
    "sns.pointplot(x=b[0], y=value, hue=a[0], data=df, dodge=.1, capsize=.05, linestyles=['', ''])\n",
    "plt.title(research_name)"
   ]
  },
  {
   "cell_type": "code",
   "execution_count": null,
   "id": "6a783384",
   "metadata": {},
   "outputs": [],
   "source": []
  }
 ],
 "metadata": {
  "kernelspec": {
   "display_name": "Python 3 (ipykernel)",
   "language": "python",
   "name": "python3"
  },
  "language_info": {
   "codemirror_mode": {
    "name": "ipython",
    "version": 3
   },
   "file_extension": ".py",
   "mimetype": "text/x-python",
   "name": "python",
   "nbconvert_exporter": "python",
   "pygments_lexer": "ipython3",
   "version": "3.9.4"
  }
 },
 "nbformat": 4,
 "nbformat_minor": 5
}
